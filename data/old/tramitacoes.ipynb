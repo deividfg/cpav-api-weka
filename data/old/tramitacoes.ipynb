{
 "cells": [
  {
   "cell_type": "markdown",
   "metadata": {},
   "source": [
    "# Machine Learning em Python\n",
    "Aula 03 - 04/08/2018"
   ]
  },
  {
   "cell_type": "markdown",
   "metadata": {},
   "source": [
    "https://www.kaggle.com/uciml/pima-indians-diabetes-database/home\n",
    "##### Contexto\n",
    "Este conjunto de dados é originalmente do Instituto Nacional de Diabetes e Doenças Digestivas e Renais. O objetivo do conjunto de dados é diagnosticar se um paciente tem ou não diabetes, com base em determinadas medidas de diagnóstico incluídas no conjunto de dados. Várias restrições foram colocadas na seleção dessas instâncias de um banco de dados maior. Em particular, todos os pacientes aqui são do sexo feminino, com pelo menos 21 anos de idade da herança indígena Pima.\n",
    "##### Conteúdo\n",
    "Os conjuntos de dados consistem em várias variáveis preditoras médicas e uma variável alvo. As variáveis preditoras incluem o número de gravidezes que o paciente teve, seu IMC, nível de insulina, idade e assim por diante.\n",
    "\n",
    "- Pregnancies: número de vezes grávida.\n",
    "- Glucose: concentração de glicose plasmática a 2 horas em teste oral de tolerância à glicose.\n",
    "- BloodPressure: Pressão arterial diastólica (mm Hg)\n",
    "- SkinThickness: espessura da dobra da pele do tríceps (milímetro)\n",
    "- Insulina: insulina sérica de 2 horas (mu U / ml)\n",
    "- BMI: índice de massa corporal (peso em kg / (altura em m) ^ 2)\n",
    "- DiabetesPedigreeFunction\n",
    "- Age: idade\n",
    "- Outcome: classe (0 ou 1)\n",
    "\n",
    "##### Objetivo\n",
    "Criar um modelo de aprendizado de máquina para prever com precisão se os pacientes do conjunto de dados têm diabetes ou não."
   ]
  },
  {
   "cell_type": "markdown",
   "metadata": {},
   "source": [
    "#### Conhecendo seus dados\n",
    "Antes de carregar os dados, é importante saber qual sua origem (banco, arquivo, internet, etc), conhecer sua estrutura, saber qual sua codificação, se possui cabeçalho, qual é seu separador, enfim, observe seu conjunto de dados antes de qualquer coisa.\n",
    "- observe o tamanho do seu arquivo\n",
    "- observe a codificação\n",
    "- observe qual é o separador\n",
    "- observe se há cabeçalho\n",
    "- observe os tipos de variáveis existentes (isso vai exigir uma análise mais profunda posteriomente, mas já podemos ter uma rápida noção do dataset)\n",
    "- os dados estão encapsulados com aspas\n",
    "\n",
    "Foram mapeadas as seguintes informação:\n",
    "- há cabeçalho\n",
    "- é um arquivo pequeno, com menos de mil registros\n",
    "- a vírgula é o separador\n",
    "- sua codificação é UTF8\n",
    "- as variáveis são do tipo numéricas\n",
    "- não há encapsulamento das colunas"
   ]
  },
  {
   "cell_type": "code",
   "execution_count": 1,
   "metadata": {},
   "outputs": [],
   "source": [
    "import pandas as pd"
   ]
  },
  {
   "cell_type": "code",
   "execution_count": 2,
   "metadata": {},
   "outputs": [
    {
     "name": "stderr",
     "output_type": "stream",
     "text": [
      "C:\\Users\\dfgonzaga\\AppData\\Local\\Continuum\\anaconda3\\lib\\site-packages\\IPython\\core\\interactiveshell.py:2785: DtypeWarning: Columns (6,7) have mixed types. Specify dtype option on import or set low_memory=False.\n",
      "  interactivity=interactivity, compiler=compiler, result=result)\n"
     ]
    },
    {
     "data": {
      "text/html": [
       "<div>\n",
       "<style scoped>\n",
       "    .dataframe tbody tr th:only-of-type {\n",
       "        vertical-align: middle;\n",
       "    }\n",
       "\n",
       "    .dataframe tbody tr th {\n",
       "        vertical-align: top;\n",
       "    }\n",
       "\n",
       "    .dataframe thead th {\n",
       "        text-align: right;\n",
       "    }\n",
       "</style>\n",
       "<table border=\"1\" class=\"dataframe\">\n",
       "  <thead>\n",
       "    <tr style=\"text-align: right;\">\n",
       "      <th></th>\n",
       "      <th>NUANO</th>\n",
       "      <th>NUVOLUME</th>\n",
       "      <th>NUTRAMITE</th>\n",
       "      <th>FLTIPOPROCESSO</th>\n",
       "      <th>CDTIPOPARECER</th>\n",
       "      <th>CDMOTIVOTRAMI</th>\n",
       "      <th>FLPARECERASSINADO</th>\n",
       "      <th>FLTRAMIASSINADA</th>\n",
       "      <th>FLULTIMO</th>\n",
       "      <th>FLSITUACAO</th>\n",
       "      <th>FLSIGILOSO</th>\n",
       "      <th>FLPERMITERECUSA</th>\n",
       "      <th>FLBLOQUEIATRAMI</th>\n",
       "      <th>CDORGAOORIGEM</th>\n",
       "      <th>CDORGAOTRAMI</th>\n",
       "    </tr>\n",
       "  </thead>\n",
       "  <tbody>\n",
       "    <tr>\n",
       "      <th>0</th>\n",
       "      <td>2012</td>\n",
       "      <td>1</td>\n",
       "      <td>1</td>\n",
       "      <td>F</td>\n",
       "      <td>NaN</td>\n",
       "      <td>NaN</td>\n",
       "      <td>N</td>\n",
       "      <td>N</td>\n",
       "      <td>S</td>\n",
       "      <td>E</td>\n",
       "      <td>N</td>\n",
       "      <td>S</td>\n",
       "      <td>0</td>\n",
       "      <td>NaN</td>\n",
       "      <td>7</td>\n",
       "    </tr>\n",
       "    <tr>\n",
       "      <th>1</th>\n",
       "      <td>2012</td>\n",
       "      <td>1</td>\n",
       "      <td>1</td>\n",
       "      <td>F</td>\n",
       "      <td>NaN</td>\n",
       "      <td>NaN</td>\n",
       "      <td>N</td>\n",
       "      <td>N</td>\n",
       "      <td>S</td>\n",
       "      <td>E</td>\n",
       "      <td>N</td>\n",
       "      <td>S</td>\n",
       "      <td>0</td>\n",
       "      <td>NaN</td>\n",
       "      <td>7</td>\n",
       "    </tr>\n",
       "    <tr>\n",
       "      <th>2</th>\n",
       "      <td>2012</td>\n",
       "      <td>1</td>\n",
       "      <td>1</td>\n",
       "      <td>F</td>\n",
       "      <td>NaN</td>\n",
       "      <td>NaN</td>\n",
       "      <td>N</td>\n",
       "      <td>N</td>\n",
       "      <td>S</td>\n",
       "      <td>E</td>\n",
       "      <td>N</td>\n",
       "      <td>S</td>\n",
       "      <td>0</td>\n",
       "      <td>NaN</td>\n",
       "      <td>7</td>\n",
       "    </tr>\n",
       "    <tr>\n",
       "      <th>3</th>\n",
       "      <td>2012</td>\n",
       "      <td>1</td>\n",
       "      <td>1</td>\n",
       "      <td>F</td>\n",
       "      <td>NaN</td>\n",
       "      <td>NaN</td>\n",
       "      <td>N</td>\n",
       "      <td>N</td>\n",
       "      <td>S</td>\n",
       "      <td>E</td>\n",
       "      <td>N</td>\n",
       "      <td>S</td>\n",
       "      <td>0</td>\n",
       "      <td>NaN</td>\n",
       "      <td>7</td>\n",
       "    </tr>\n",
       "    <tr>\n",
       "      <th>4</th>\n",
       "      <td>2012</td>\n",
       "      <td>1</td>\n",
       "      <td>1</td>\n",
       "      <td>F</td>\n",
       "      <td>NaN</td>\n",
       "      <td>NaN</td>\n",
       "      <td>N</td>\n",
       "      <td>N</td>\n",
       "      <td>S</td>\n",
       "      <td>E</td>\n",
       "      <td>N</td>\n",
       "      <td>S</td>\n",
       "      <td>0</td>\n",
       "      <td>NaN</td>\n",
       "      <td>7</td>\n",
       "    </tr>\n",
       "  </tbody>\n",
       "</table>\n",
       "</div>"
      ],
      "text/plain": [
       "   NUANO  NUVOLUME  NUTRAMITE FLTIPOPROCESSO  CDTIPOPARECER  CDMOTIVOTRAMI  \\\n",
       "0   2012         1          1              F            NaN            NaN   \n",
       "1   2012         1          1              F            NaN            NaN   \n",
       "2   2012         1          1              F            NaN            NaN   \n",
       "3   2012         1          1              F            NaN            NaN   \n",
       "4   2012         1          1              F            NaN            NaN   \n",
       "\n",
       "  FLPARECERASSINADO FLTRAMIASSINADA FLULTIMO FLSITUACAO FLSIGILOSO  \\\n",
       "0                 N               N        S          E          N   \n",
       "1                 N               N        S          E          N   \n",
       "2                 N               N        S          E          N   \n",
       "3                 N               N        S          E          N   \n",
       "4                 N               N        S          E          N   \n",
       "\n",
       "  FLPERMITERECUSA  FLBLOQUEIATRAMI  CDORGAOORIGEM  CDORGAOTRAMI  \n",
       "0               S                0            NaN             7  \n",
       "1               S                0            NaN             7  \n",
       "2               S                0            NaN             7  \n",
       "3               S                0            NaN             7  \n",
       "4               S                0            NaN             7  "
      ]
     },
     "execution_count": 2,
     "metadata": {},
     "output_type": "execute_result"
    }
   ],
   "source": [
    "df = pd.read_csv(\"tramitacoes.csv\");df.head(5)"
   ]
  },
  {
   "cell_type": "markdown",
   "metadata": {},
   "source": [
    "#### Análise exploratória dos dados - estatística descritiva"
   ]
  },
  {
   "cell_type": "code",
   "execution_count": 3,
   "metadata": {},
   "outputs": [
    {
     "data": {
      "text/plain": [
       "(311940, 15)"
      ]
     },
     "execution_count": 3,
     "metadata": {},
     "output_type": "execute_result"
    }
   ],
   "source": [
    "df.shape"
   ]
  },
  {
   "cell_type": "code",
   "execution_count": 4,
   "metadata": {},
   "outputs": [
    {
     "data": {
      "text/plain": [
       "NUANO                  int64\n",
       "NUVOLUME               int64\n",
       "NUTRAMITE              int64\n",
       "FLTIPOPROCESSO        object\n",
       "CDTIPOPARECER        float64\n",
       "CDMOTIVOTRAMI        float64\n",
       "FLPARECERASSINADO     object\n",
       "FLTRAMIASSINADA       object\n",
       "FLULTIMO              object\n",
       "FLSITUACAO            object\n",
       "FLSIGILOSO            object\n",
       "FLPERMITERECUSA       object\n",
       "FLBLOQUEIATRAMI        int64\n",
       "CDORGAOORIGEM        float64\n",
       "CDORGAOTRAMI           int64\n",
       "dtype: object"
      ]
     },
     "execution_count": 4,
     "metadata": {},
     "output_type": "execute_result"
    }
   ],
   "source": [
    "df.dtypes"
   ]
  },
  {
   "cell_type": "code",
   "execution_count": 5,
   "metadata": {},
   "outputs": [
    {
     "data": {
      "text/html": [
       "<div>\n",
       "<style scoped>\n",
       "    .dataframe tbody tr th:only-of-type {\n",
       "        vertical-align: middle;\n",
       "    }\n",
       "\n",
       "    .dataframe tbody tr th {\n",
       "        vertical-align: top;\n",
       "    }\n",
       "\n",
       "    .dataframe thead th {\n",
       "        text-align: right;\n",
       "    }\n",
       "</style>\n",
       "<table border=\"1\" class=\"dataframe\">\n",
       "  <thead>\n",
       "    <tr style=\"text-align: right;\">\n",
       "      <th></th>\n",
       "      <th>NUANO</th>\n",
       "      <th>NUVOLUME</th>\n",
       "      <th>NUTRAMITE</th>\n",
       "      <th>CDTIPOPARECER</th>\n",
       "      <th>CDMOTIVOTRAMI</th>\n",
       "      <th>FLBLOQUEIATRAMI</th>\n",
       "      <th>CDORGAOORIGEM</th>\n",
       "      <th>CDORGAOTRAMI</th>\n",
       "    </tr>\n",
       "  </thead>\n",
       "  <tbody>\n",
       "    <tr>\n",
       "      <th>count</th>\n",
       "      <td>311940.000000</td>\n",
       "      <td>311940.000000</td>\n",
       "      <td>311940.000000</td>\n",
       "      <td>25821.000000</td>\n",
       "      <td>213.000000</td>\n",
       "      <td>311940.0</td>\n",
       "      <td>152026.000000</td>\n",
       "      <td>311940.000000</td>\n",
       "    </tr>\n",
       "    <tr>\n",
       "      <th>mean</th>\n",
       "      <td>2011.880807</td>\n",
       "      <td>0.520953</td>\n",
       "      <td>3.505001</td>\n",
       "      <td>3.972813</td>\n",
       "      <td>2.366197</td>\n",
       "      <td>0.0</td>\n",
       "      <td>699.908884</td>\n",
       "      <td>509.927675</td>\n",
       "    </tr>\n",
       "    <tr>\n",
       "      <th>std</th>\n",
       "      <td>5.138722</td>\n",
       "      <td>0.552775</td>\n",
       "      <td>25.811455</td>\n",
       "      <td>0.284298</td>\n",
       "      <td>1.040312</td>\n",
       "      <td>0.0</td>\n",
       "      <td>1555.534257</td>\n",
       "      <td>1078.093113</td>\n",
       "    </tr>\n",
       "    <tr>\n",
       "      <th>min</th>\n",
       "      <td>1997.000000</td>\n",
       "      <td>0.000000</td>\n",
       "      <td>1.000000</td>\n",
       "      <td>1.000000</td>\n",
       "      <td>1.000000</td>\n",
       "      <td>0.0</td>\n",
       "      <td>1.000000</td>\n",
       "      <td>1.000000</td>\n",
       "    </tr>\n",
       "    <tr>\n",
       "      <th>25%</th>\n",
       "      <td>2009.000000</td>\n",
       "      <td>0.000000</td>\n",
       "      <td>1.000000</td>\n",
       "      <td>4.000000</td>\n",
       "      <td>2.000000</td>\n",
       "      <td>0.0</td>\n",
       "      <td>7.000000</td>\n",
       "      <td>7.000000</td>\n",
       "    </tr>\n",
       "    <tr>\n",
       "      <th>50%</th>\n",
       "      <td>2013.000000</td>\n",
       "      <td>1.000000</td>\n",
       "      <td>1.000000</td>\n",
       "      <td>4.000000</td>\n",
       "      <td>2.000000</td>\n",
       "      <td>0.0</td>\n",
       "      <td>27.000000</td>\n",
       "      <td>50.000000</td>\n",
       "    </tr>\n",
       "    <tr>\n",
       "      <th>75%</th>\n",
       "      <td>2016.000000</td>\n",
       "      <td>1.000000</td>\n",
       "      <td>3.000000</td>\n",
       "      <td>4.000000</td>\n",
       "      <td>2.000000</td>\n",
       "      <td>0.0</td>\n",
       "      <td>201.000000</td>\n",
       "      <td>201.000000</td>\n",
       "    </tr>\n",
       "    <tr>\n",
       "      <th>max</th>\n",
       "      <td>2018.000000</td>\n",
       "      <td>26.000000</td>\n",
       "      <td>2416.000000</td>\n",
       "      <td>4.000000</td>\n",
       "      <td>7.000000</td>\n",
       "      <td>0.0</td>\n",
       "      <td>6222.000000</td>\n",
       "      <td>6229.000000</td>\n",
       "    </tr>\n",
       "  </tbody>\n",
       "</table>\n",
       "</div>"
      ],
      "text/plain": [
       "               NUANO       NUVOLUME      NUTRAMITE  CDTIPOPARECER  \\\n",
       "count  311940.000000  311940.000000  311940.000000   25821.000000   \n",
       "mean     2011.880807       0.520953       3.505001       3.972813   \n",
       "std         5.138722       0.552775      25.811455       0.284298   \n",
       "min      1997.000000       0.000000       1.000000       1.000000   \n",
       "25%      2009.000000       0.000000       1.000000       4.000000   \n",
       "50%      2013.000000       1.000000       1.000000       4.000000   \n",
       "75%      2016.000000       1.000000       3.000000       4.000000   \n",
       "max      2018.000000      26.000000    2416.000000       4.000000   \n",
       "\n",
       "       CDMOTIVOTRAMI  FLBLOQUEIATRAMI  CDORGAOORIGEM   CDORGAOTRAMI  \n",
       "count     213.000000         311940.0  152026.000000  311940.000000  \n",
       "mean        2.366197              0.0     699.908884     509.927675  \n",
       "std         1.040312              0.0    1555.534257    1078.093113  \n",
       "min         1.000000              0.0       1.000000       1.000000  \n",
       "25%         2.000000              0.0       7.000000       7.000000  \n",
       "50%         2.000000              0.0      27.000000      50.000000  \n",
       "75%         2.000000              0.0     201.000000     201.000000  \n",
       "max         7.000000              0.0    6222.000000    6229.000000  "
      ]
     },
     "execution_count": 5,
     "metadata": {},
     "output_type": "execute_result"
    }
   ],
   "source": [
    "df.describe()"
   ]
  },
  {
   "cell_type": "code",
   "execution_count": 7,
   "metadata": {},
   "outputs": [
    {
     "data": {
      "text/plain": [
       "CDORGAOTRAMI\n",
       "1         3514\n",
       "2          529\n",
       "3          155\n",
       "4            1\n",
       "7       132764\n",
       "8           60\n",
       "9            7\n",
       "10        2035\n",
       "17           1\n",
       "27        4723\n",
       "31           1\n",
       "32          87\n",
       "33         358\n",
       "35         384\n",
       "50       39803\n",
       "51        1054\n",
       "52         254\n",
       "53        6239\n",
       "59          93\n",
       "60         251\n",
       "61         135\n",
       "62          81\n",
       "83         268\n",
       "84          16\n",
       "86           2\n",
       "87          15\n",
       "90          39\n",
       "92        8034\n",
       "93       32544\n",
       "124          1\n",
       "         ...  \n",
       "5955         5\n",
       "5957         2\n",
       "5961         5\n",
       "5962         9\n",
       "5968         3\n",
       "5976        12\n",
       "5984        32\n",
       "5986        12\n",
       "6001         2\n",
       "6007         2\n",
       "6015         1\n",
       "6027       134\n",
       "6029      1919\n",
       "6062        23\n",
       "6065        33\n",
       "6074         4\n",
       "6085         1\n",
       "6089         4\n",
       "6101       250\n",
       "6103         1\n",
       "6121         1\n",
       "6139         2\n",
       "6211       145\n",
       "6214        11\n",
       "6215         6\n",
       "6216         1\n",
       "6217         3\n",
       "6221        27\n",
       "6222         3\n",
       "6229         3\n",
       "Length: 386, dtype: int64"
      ]
     },
     "execution_count": 7,
     "metadata": {},
     "output_type": "execute_result"
    }
   ],
   "source": [
    "#Observando se as classes estão balanceadas\n",
    "df.groupby(\"CDORGAOTRAMI\").size()"
   ]
  },
  {
   "cell_type": "code",
   "execution_count": 8,
   "metadata": {},
   "outputs": [
    {
     "data": {
      "text/html": [
       "<div>\n",
       "<style scoped>\n",
       "    .dataframe tbody tr th:only-of-type {\n",
       "        vertical-align: middle;\n",
       "    }\n",
       "\n",
       "    .dataframe tbody tr th {\n",
       "        vertical-align: top;\n",
       "    }\n",
       "\n",
       "    .dataframe thead th {\n",
       "        text-align: right;\n",
       "    }\n",
       "</style>\n",
       "<table border=\"1\" class=\"dataframe\">\n",
       "  <thead>\n",
       "    <tr style=\"text-align: right;\">\n",
       "      <th></th>\n",
       "      <th>NUANO</th>\n",
       "      <th>NUVOLUME</th>\n",
       "      <th>NUTRAMITE</th>\n",
       "      <th>CDTIPOPARECER</th>\n",
       "      <th>CDMOTIVOTRAMI</th>\n",
       "      <th>FLBLOQUEIATRAMI</th>\n",
       "      <th>CDORGAOORIGEM</th>\n",
       "      <th>CDORGAOTRAMI</th>\n",
       "    </tr>\n",
       "  </thead>\n",
       "  <tbody>\n",
       "    <tr>\n",
       "      <th>NUANO</th>\n",
       "      <td>1.000000</td>\n",
       "      <td>-0.573828</td>\n",
       "      <td>0.047149</td>\n",
       "      <td>-0.057062</td>\n",
       "      <td>0.127477</td>\n",
       "      <td>NaN</td>\n",
       "      <td>0.201629</td>\n",
       "      <td>0.327389</td>\n",
       "    </tr>\n",
       "    <tr>\n",
       "      <th>NUVOLUME</th>\n",
       "      <td>-0.573828</td>\n",
       "      <td>1.000000</td>\n",
       "      <td>0.293617</td>\n",
       "      <td>0.098020</td>\n",
       "      <td>0.087626</td>\n",
       "      <td>NaN</td>\n",
       "      <td>0.024787</td>\n",
       "      <td>-0.179548</td>\n",
       "    </tr>\n",
       "    <tr>\n",
       "      <th>NUTRAMITE</th>\n",
       "      <td>0.047149</td>\n",
       "      <td>0.293617</td>\n",
       "      <td>1.000000</td>\n",
       "      <td>0.014188</td>\n",
       "      <td>-0.027232</td>\n",
       "      <td>NaN</td>\n",
       "      <td>0.038999</td>\n",
       "      <td>0.105597</td>\n",
       "    </tr>\n",
       "    <tr>\n",
       "      <th>CDTIPOPARECER</th>\n",
       "      <td>-0.057062</td>\n",
       "      <td>0.098020</td>\n",
       "      <td>0.014188</td>\n",
       "      <td>1.000000</td>\n",
       "      <td>-0.002210</td>\n",
       "      <td>NaN</td>\n",
       "      <td>-0.006731</td>\n",
       "      <td>-0.054098</td>\n",
       "    </tr>\n",
       "    <tr>\n",
       "      <th>CDMOTIVOTRAMI</th>\n",
       "      <td>0.127477</td>\n",
       "      <td>0.087626</td>\n",
       "      <td>-0.027232</td>\n",
       "      <td>-0.002210</td>\n",
       "      <td>1.000000</td>\n",
       "      <td>NaN</td>\n",
       "      <td>0.690573</td>\n",
       "      <td>-0.057708</td>\n",
       "    </tr>\n",
       "    <tr>\n",
       "      <th>FLBLOQUEIATRAMI</th>\n",
       "      <td>NaN</td>\n",
       "      <td>NaN</td>\n",
       "      <td>NaN</td>\n",
       "      <td>NaN</td>\n",
       "      <td>NaN</td>\n",
       "      <td>NaN</td>\n",
       "      <td>NaN</td>\n",
       "      <td>NaN</td>\n",
       "    </tr>\n",
       "    <tr>\n",
       "      <th>CDORGAOORIGEM</th>\n",
       "      <td>0.201629</td>\n",
       "      <td>0.024787</td>\n",
       "      <td>0.038999</td>\n",
       "      <td>-0.006731</td>\n",
       "      <td>0.690573</td>\n",
       "      <td>NaN</td>\n",
       "      <td>1.000000</td>\n",
       "      <td>-0.089522</td>\n",
       "    </tr>\n",
       "    <tr>\n",
       "      <th>CDORGAOTRAMI</th>\n",
       "      <td>0.327389</td>\n",
       "      <td>-0.179548</td>\n",
       "      <td>0.105597</td>\n",
       "      <td>-0.054098</td>\n",
       "      <td>-0.057708</td>\n",
       "      <td>NaN</td>\n",
       "      <td>-0.089522</td>\n",
       "      <td>1.000000</td>\n",
       "    </tr>\n",
       "  </tbody>\n",
       "</table>\n",
       "</div>"
      ],
      "text/plain": [
       "                    NUANO  NUVOLUME  NUTRAMITE  CDTIPOPARECER  CDMOTIVOTRAMI  \\\n",
       "NUANO            1.000000 -0.573828   0.047149      -0.057062       0.127477   \n",
       "NUVOLUME        -0.573828  1.000000   0.293617       0.098020       0.087626   \n",
       "NUTRAMITE        0.047149  0.293617   1.000000       0.014188      -0.027232   \n",
       "CDTIPOPARECER   -0.057062  0.098020   0.014188       1.000000      -0.002210   \n",
       "CDMOTIVOTRAMI    0.127477  0.087626  -0.027232      -0.002210       1.000000   \n",
       "FLBLOQUEIATRAMI       NaN       NaN        NaN            NaN            NaN   \n",
       "CDORGAOORIGEM    0.201629  0.024787   0.038999      -0.006731       0.690573   \n",
       "CDORGAOTRAMI     0.327389 -0.179548   0.105597      -0.054098      -0.057708   \n",
       "\n",
       "                 FLBLOQUEIATRAMI  CDORGAOORIGEM  CDORGAOTRAMI  \n",
       "NUANO                        NaN       0.201629      0.327389  \n",
       "NUVOLUME                     NaN       0.024787     -0.179548  \n",
       "NUTRAMITE                    NaN       0.038999      0.105597  \n",
       "CDTIPOPARECER                NaN      -0.006731     -0.054098  \n",
       "CDMOTIVOTRAMI                NaN       0.690573     -0.057708  \n",
       "FLBLOQUEIATRAMI              NaN            NaN           NaN  \n",
       "CDORGAOORIGEM                NaN       1.000000     -0.089522  \n",
       "CDORGAOTRAMI                 NaN      -0.089522      1.000000  "
      ]
     },
     "execution_count": 8,
     "metadata": {},
     "output_type": "execute_result"
    }
   ],
   "source": [
    "df.corr()"
   ]
  },
  {
   "cell_type": "code",
   "execution_count": 9,
   "metadata": {},
   "outputs": [
    {
     "data": {
      "text/plain": [
       "NUANO              -1.078937\n",
       "NUVOLUME            3.933834\n",
       "NUTRAMITE          52.693331\n",
       "CDTIPOPARECER     -10.361842\n",
       "CDMOTIVOTRAMI       2.797626\n",
       "FLBLOQUEIATRAMI     0.000000\n",
       "CDORGAOORIGEM       2.650097\n",
       "CDORGAOTRAMI        3.027946\n",
       "dtype: float64"
      ]
     },
     "execution_count": 9,
     "metadata": {},
     "output_type": "execute_result"
    }
   ],
   "source": [
    "#saber se a distribuição é normal ou não:\n",
    "# zero é simétrica\n",
    "# positivo indica uma assimetria positiva \n",
    "# negativo indica uma assimetria negativa\n",
    "df.skew()"
   ]
  },
  {
   "cell_type": "markdown",
   "metadata": {},
   "source": [
    "#### Análise exploratória dos dados - visualizando seus dados"
   ]
  },
  {
   "cell_type": "code",
   "execution_count": 10,
   "metadata": {},
   "outputs": [],
   "source": [
    "import matplotlib as plt\n",
    "%matplotlib inline"
   ]
  },
  {
   "cell_type": "code",
   "execution_count": 11,
   "metadata": {},
   "outputs": [
    {
     "data": {
      "text/plain": [
       "array([[<matplotlib.axes._subplots.AxesSubplot object at 0x000002C42DB87780>,\n",
       "        <matplotlib.axes._subplots.AxesSubplot object at 0x000002C42DBCDCC0>,\n",
       "        <matplotlib.axes._subplots.AxesSubplot object at 0x000002C42DC05390>],\n",
       "       [<matplotlib.axes._subplots.AxesSubplot object at 0x000002C42DC2AA20>,\n",
       "        <matplotlib.axes._subplots.AxesSubplot object at 0x000002C42DC590F0>,\n",
       "        <matplotlib.axes._subplots.AxesSubplot object at 0x000002C42DC59128>],\n",
       "       [<matplotlib.axes._subplots.AxesSubplot object at 0x000002C42DCA9E10>,\n",
       "        <matplotlib.axes._subplots.AxesSubplot object at 0x000002C42DCD84E0>,\n",
       "        <matplotlib.axes._subplots.AxesSubplot object at 0x000002C42DD01B70>]],\n",
       "      dtype=object)"
      ]
     },
     "execution_count": 11,
     "metadata": {},
     "output_type": "execute_result"
    },
    {
     "data": {
      "image/png": "[encoded data removed]",
      "text/plain": [
       "<Figure size 432x288 with 9 Axes>"
      ]
     },
     "metadata": {},
     "output_type": "display_data"
    }
   ],
   "source": [
    "df.hist()"
   ]
  },
  {
   "cell_type": "code",
   "execution_count": 12,
   "metadata": {},
   "outputs": [
    {
     "ename": "LinAlgError",
     "evalue": "singular matrix",
     "output_type": "error",
     "traceback": [
      "\u001b[1;31m---------------------------------------------------------------------------\u001b[0m",
      "\u001b[1;31mLinAlgError\u001b[0m                               Traceback (most recent call last)",
      "\u001b[1;32m<ipython-input-12-525b1a6e9324>\u001b[0m in \u001b[0;36m<module>\u001b[1;34m()\u001b[0m\n\u001b[1;32m----> 1\u001b[1;33m \u001b[0mdf\u001b[0m\u001b[1;33m.\u001b[0m\u001b[0mplot\u001b[0m\u001b[1;33m(\u001b[0m\u001b[0mkind\u001b[0m \u001b[1;33m=\u001b[0m \u001b[1;34m\"density\"\u001b[0m\u001b[1;33m,\u001b[0m\u001b[0msubplots\u001b[0m \u001b[1;33m=\u001b[0m \u001b[1;32mTrue\u001b[0m\u001b[1;33m,\u001b[0m\u001b[0mlayout\u001b[0m \u001b[1;33m=\u001b[0m \u001b[1;33m(\u001b[0m\u001b[1;36m3\u001b[0m\u001b[1;33m,\u001b[0m\u001b[1;36m3\u001b[0m\u001b[1;33m)\u001b[0m\u001b[1;33m)\u001b[0m\u001b[1;33m\u001b[0m\u001b[0m\n\u001b[0m",
      "\u001b[1;32m~\\AppData\\Local\\Continuum\\anaconda3\\lib\\site-packages\\pandas\\plotting\\_core.py\u001b[0m in \u001b[0;36m__call__\u001b[1;34m(self, x, y, kind, ax, subplots, sharex, sharey, layout, figsize, use_index, title, grid, legend, style, logx, logy, loglog, xticks, yticks, xlim, ylim, rot, fontsize, colormap, table, yerr, xerr, secondary_y, sort_columns, **kwds)\u001b[0m\n\u001b[0;32m   2939\u001b[0m                           \u001b[0mfontsize\u001b[0m\u001b[1;33m=\u001b[0m\u001b[0mfontsize\u001b[0m\u001b[1;33m,\u001b[0m \u001b[0mcolormap\u001b[0m\u001b[1;33m=\u001b[0m\u001b[0mcolormap\u001b[0m\u001b[1;33m,\u001b[0m \u001b[0mtable\u001b[0m\u001b[1;33m=\u001b[0m\u001b[0mtable\u001b[0m\u001b[1;33m,\u001b[0m\u001b[1;33m\u001b[0m\u001b[0m\n\u001b[0;32m   2940\u001b[0m                           \u001b[0myerr\u001b[0m\u001b[1;33m=\u001b[0m\u001b[0myerr\u001b[0m\u001b[1;33m,\u001b[0m \u001b[0mxerr\u001b[0m\u001b[1;33m=\u001b[0m\u001b[0mxerr\u001b[0m\u001b[1;33m,\u001b[0m \u001b[0msecondary_y\u001b[0m\u001b[1;33m=\u001b[0m\u001b[0msecondary_y\u001b[0m\u001b[1;33m,\u001b[0m\u001b[1;33m\u001b[0m\u001b[0m\n\u001b[1;32m-> 2941\u001b[1;33m                           sort_columns=sort_columns, **kwds)\n\u001b[0m\u001b[0;32m   2942\u001b[0m     \u001b[0m__call__\u001b[0m\u001b[1;33m.\u001b[0m\u001b[0m__doc__\u001b[0m \u001b[1;33m=\u001b[0m \u001b[0mplot_frame\u001b[0m\u001b[1;33m.\u001b[0m\u001b[0m__doc__\u001b[0m\u001b[1;33m\u001b[0m\u001b[0m\n\u001b[0;32m   2943\u001b[0m \u001b[1;33m\u001b[0m\u001b[0m\n",
      "\u001b[1;32m~\\AppData\\Local\\Continuum\\anaconda3\\lib\\site-packages\\pandas\\plotting\\_core.py\u001b[0m in \u001b[0;36mplot_frame\u001b[1;34m(data, x, y, kind, ax, subplots, sharex, sharey, layout, figsize, use_index, title, grid, legend, style, logx, logy, loglog, xticks, yticks, xlim, ylim, rot, fontsize, colormap, table, yerr, xerr, secondary_y, sort_columns, **kwds)\u001b[0m\n\u001b[0;32m   1975\u001b[0m                  \u001b[0myerr\u001b[0m\u001b[1;33m=\u001b[0m\u001b[0myerr\u001b[0m\u001b[1;33m,\u001b[0m \u001b[0mxerr\u001b[0m\u001b[1;33m=\u001b[0m\u001b[0mxerr\u001b[0m\u001b[1;33m,\u001b[0m\u001b[1;33m\u001b[0m\u001b[0m\n\u001b[0;32m   1976\u001b[0m                  \u001b[0msecondary_y\u001b[0m\u001b[1;33m=\u001b[0m\u001b[0msecondary_y\u001b[0m\u001b[1;33m,\u001b[0m \u001b[0msort_columns\u001b[0m\u001b[1;33m=\u001b[0m\u001b[0msort_columns\u001b[0m\u001b[1;33m,\u001b[0m\u001b[1;33m\u001b[0m\u001b[0m\n\u001b[1;32m-> 1977\u001b[1;33m                  **kwds)\n\u001b[0m\u001b[0;32m   1978\u001b[0m \u001b[1;33m\u001b[0m\u001b[0m\n\u001b[0;32m   1979\u001b[0m \u001b[1;33m\u001b[0m\u001b[0m\n",
      "\u001b[1;32m~\\AppData\\Local\\Continuum\\anaconda3\\lib\\site-packages\\pandas\\plotting\\_core.py\u001b[0m in \u001b[0;36m_plot\u001b[1;34m(data, x, y, subplots, ax, kind, **kwds)\u001b[0m\n\u001b[0;32m   1802\u001b[0m         \u001b[0mplot_obj\u001b[0m \u001b[1;33m=\u001b[0m \u001b[0mklass\u001b[0m\u001b[1;33m(\u001b[0m\u001b[0mdata\u001b[0m\u001b[1;33m,\u001b[0m \u001b[0msubplots\u001b[0m\u001b[1;33m=\u001b[0m\u001b[0msubplots\u001b[0m\u001b[1;33m,\u001b[0m \u001b[0max\u001b[0m\u001b[1;33m=\u001b[0m\u001b[0max\u001b[0m\u001b[1;33m,\u001b[0m \u001b[0mkind\u001b[0m\u001b[1;33m=\u001b[0m\u001b[0mkind\u001b[0m\u001b[1;33m,\u001b[0m \u001b[1;33m**\u001b[0m\u001b[0mkwds\u001b[0m\u001b[1;33m)\u001b[0m\u001b[1;33m\u001b[0m\u001b[0m\n\u001b[0;32m   1803\u001b[0m \u001b[1;33m\u001b[0m\u001b[0m\n\u001b[1;32m-> 1804\u001b[1;33m     \u001b[0mplot_obj\u001b[0m\u001b[1;33m.\u001b[0m\u001b[0mgenerate\u001b[0m\u001b[1;33m(\u001b[0m\u001b[1;33m)\u001b[0m\u001b[1;33m\u001b[0m\u001b[0m\n\u001b[0m\u001b[0;32m   1805\u001b[0m     \u001b[0mplot_obj\u001b[0m\u001b[1;33m.\u001b[0m\u001b[0mdraw\u001b[0m\u001b[1;33m(\u001b[0m\u001b[1;33m)\u001b[0m\u001b[1;33m\u001b[0m\u001b[0m\n\u001b[0;32m   1806\u001b[0m     \u001b[1;32mreturn\u001b[0m \u001b[0mplot_obj\u001b[0m\u001b[1;33m.\u001b[0m\u001b[0mresult\u001b[0m\u001b[1;33m\u001b[0m\u001b[0m\n",
      "\u001b[1;32m~\\AppData\\Local\\Continuum\\anaconda3\\lib\\site-packages\\pandas\\plotting\\_core.py\u001b[0m in \u001b[0;36mgenerate\u001b[1;34m(self)\u001b[0m\n\u001b[0;32m    258\u001b[0m         \u001b[0mself\u001b[0m\u001b[1;33m.\u001b[0m\u001b[0m_compute_plot_data\u001b[0m\u001b[1;33m(\u001b[0m\u001b[1;33m)\u001b[0m\u001b[1;33m\u001b[0m\u001b[0m\n\u001b[0;32m    259\u001b[0m         \u001b[0mself\u001b[0m\u001b[1;33m.\u001b[0m\u001b[0m_setup_subplots\u001b[0m\u001b[1;33m(\u001b[0m\u001b[1;33m)\u001b[0m\u001b[1;33m\u001b[0m\u001b[0m\n\u001b[1;32m--> 260\u001b[1;33m         \u001b[0mself\u001b[0m\u001b[1;33m.\u001b[0m\u001b[0m_make_plot\u001b[0m\u001b[1;33m(\u001b[0m\u001b[1;33m)\u001b[0m\u001b[1;33m\u001b[0m\u001b[0m\n\u001b[0m\u001b[0;32m    261\u001b[0m         \u001b[0mself\u001b[0m\u001b[1;33m.\u001b[0m\u001b[0m_add_table\u001b[0m\u001b[1;33m(\u001b[0m\u001b[1;33m)\u001b[0m\u001b[1;33m\u001b[0m\u001b[0m\n\u001b[0;32m    262\u001b[0m         \u001b[0mself\u001b[0m\u001b[1;33m.\u001b[0m\u001b[0m_make_legend\u001b[0m\u001b[1;33m(\u001b[0m\u001b[1;33m)\u001b[0m\u001b[1;33m\u001b[0m\u001b[0m\n",
      "\u001b[1;32m~\\AppData\\Local\\Continuum\\anaconda3\\lib\\site-packages\\pandas\\plotting\\_core.py\u001b[0m in \u001b[0;36m_make_plot\u001b[1;34m(self)\u001b[0m\n\u001b[0;32m   1365\u001b[0m             \u001b[0mkwds\u001b[0m \u001b[1;33m=\u001b[0m \u001b[0mself\u001b[0m\u001b[1;33m.\u001b[0m\u001b[0m_make_plot_keywords\u001b[0m\u001b[1;33m(\u001b[0m\u001b[0mkwds\u001b[0m\u001b[1;33m,\u001b[0m \u001b[0my\u001b[0m\u001b[1;33m)\u001b[0m\u001b[1;33m\u001b[0m\u001b[0m\n\u001b[0;32m   1366\u001b[0m             artists = self._plot(ax, y, column_num=i,\n\u001b[1;32m-> 1367\u001b[1;33m                                  stacking_id=stacking_id, **kwds)\n\u001b[0m\u001b[0;32m   1368\u001b[0m             \u001b[0mself\u001b[0m\u001b[1;33m.\u001b[0m\u001b[0m_add_legend_handle\u001b[0m\u001b[1;33m(\u001b[0m\u001b[0martists\u001b[0m\u001b[1;33m[\u001b[0m\u001b[1;36m0\u001b[0m\u001b[1;33m]\u001b[0m\u001b[1;33m,\u001b[0m \u001b[0mlabel\u001b[0m\u001b[1;33m,\u001b[0m \u001b[0mindex\u001b[0m\u001b[1;33m=\u001b[0m\u001b[0mi\u001b[0m\u001b[1;33m)\u001b[0m\u001b[1;33m\u001b[0m\u001b[0m\n\u001b[0;32m   1369\u001b[0m \u001b[1;33m\u001b[0m\u001b[0m\n",
      "\u001b[1;32m~\\AppData\\Local\\Continuum\\anaconda3\\lib\\site-packages\\pandas\\plotting\\_core.py\u001b[0m in \u001b[0;36m_plot\u001b[1;34m(cls, ax, y, style, bw_method, ind, column_num, stacking_id, **kwds)\u001b[0m\n\u001b[0;32m   1469\u001b[0m \u001b[1;33m\u001b[0m\u001b[0m\n\u001b[0;32m   1470\u001b[0m         \u001b[1;32mif\u001b[0m \u001b[0mLooseVersion\u001b[0m\u001b[1;33m(\u001b[0m\u001b[0mspv\u001b[0m\u001b[1;33m)\u001b[0m \u001b[1;33m>=\u001b[0m \u001b[1;34m'0.11.0'\u001b[0m\u001b[1;33m:\u001b[0m\u001b[1;33m\u001b[0m\u001b[0m\n\u001b[1;32m-> 1471\u001b[1;33m             \u001b[0mgkde\u001b[0m \u001b[1;33m=\u001b[0m \u001b[0mgaussian_kde\u001b[0m\u001b[1;33m(\u001b[0m\u001b[0my\u001b[0m\u001b[1;33m,\u001b[0m \u001b[0mbw_method\u001b[0m\u001b[1;33m=\u001b[0m\u001b[0mbw_method\u001b[0m\u001b[1;33m)\u001b[0m\u001b[1;33m\u001b[0m\u001b[0m\n\u001b[0m\u001b[0;32m   1472\u001b[0m         \u001b[1;32melse\u001b[0m\u001b[1;33m:\u001b[0m\u001b[1;33m\u001b[0m\u001b[0m\n\u001b[0;32m   1473\u001b[0m             \u001b[0mgkde\u001b[0m \u001b[1;33m=\u001b[0m \u001b[0mgaussian_kde\u001b[0m\u001b[1;33m(\u001b[0m\u001b[0my\u001b[0m\u001b[1;33m)\u001b[0m\u001b[1;33m\u001b[0m\u001b[0m\n",
      "\u001b[1;32m~\\AppData\\Local\\Continuum\\anaconda3\\lib\\site-packages\\scipy\\stats\\kde.py\u001b[0m in \u001b[0;36m__init__\u001b[1;34m(self, dataset, bw_method)\u001b[0m\n\u001b[0;32m    170\u001b[0m \u001b[1;33m\u001b[0m\u001b[0m\n\u001b[0;32m    171\u001b[0m         \u001b[0mself\u001b[0m\u001b[1;33m.\u001b[0m\u001b[0md\u001b[0m\u001b[1;33m,\u001b[0m \u001b[0mself\u001b[0m\u001b[1;33m.\u001b[0m\u001b[0mn\u001b[0m \u001b[1;33m=\u001b[0m \u001b[0mself\u001b[0m\u001b[1;33m.\u001b[0m\u001b[0mdataset\u001b[0m\u001b[1;33m.\u001b[0m\u001b[0mshape\u001b[0m\u001b[1;33m\u001b[0m\u001b[0m\n\u001b[1;32m--> 172\u001b[1;33m         \u001b[0mself\u001b[0m\u001b[1;33m.\u001b[0m\u001b[0mset_bandwidth\u001b[0m\u001b[1;33m(\u001b[0m\u001b[0mbw_method\u001b[0m\u001b[1;33m=\u001b[0m\u001b[0mbw_method\u001b[0m\u001b[1;33m)\u001b[0m\u001b[1;33m\u001b[0m\u001b[0m\n\u001b[0m\u001b[0;32m    173\u001b[0m \u001b[1;33m\u001b[0m\u001b[0m\n\u001b[0;32m    174\u001b[0m     \u001b[1;32mdef\u001b[0m \u001b[0mevaluate\u001b[0m\u001b[1;33m(\u001b[0m\u001b[0mself\u001b[0m\u001b[1;33m,\u001b[0m \u001b[0mpoints\u001b[0m\u001b[1;33m)\u001b[0m\u001b[1;33m:\u001b[0m\u001b[1;33m\u001b[0m\u001b[0m\n",
      "\u001b[1;32m~\\AppData\\Local\\Continuum\\anaconda3\\lib\\site-packages\\scipy\\stats\\kde.py\u001b[0m in \u001b[0;36mset_bandwidth\u001b[1;34m(self, bw_method)\u001b[0m\n\u001b[0;32m    497\u001b[0m             \u001b[1;32mraise\u001b[0m \u001b[0mValueError\u001b[0m\u001b[1;33m(\u001b[0m\u001b[0mmsg\u001b[0m\u001b[1;33m)\u001b[0m\u001b[1;33m\u001b[0m\u001b[0m\n\u001b[0;32m    498\u001b[0m \u001b[1;33m\u001b[0m\u001b[0m\n\u001b[1;32m--> 499\u001b[1;33m         \u001b[0mself\u001b[0m\u001b[1;33m.\u001b[0m\u001b[0m_compute_covariance\u001b[0m\u001b[1;33m(\u001b[0m\u001b[1;33m)\u001b[0m\u001b[1;33m\u001b[0m\u001b[0m\n\u001b[0m\u001b[0;32m    500\u001b[0m \u001b[1;33m\u001b[0m\u001b[0m\n\u001b[0;32m    501\u001b[0m     \u001b[1;32mdef\u001b[0m \u001b[0m_compute_covariance\u001b[0m\u001b[1;33m(\u001b[0m\u001b[0mself\u001b[0m\u001b[1;33m)\u001b[0m\u001b[1;33m:\u001b[0m\u001b[1;33m\u001b[0m\u001b[0m\n",
      "\u001b[1;32m~\\AppData\\Local\\Continuum\\anaconda3\\lib\\site-packages\\scipy\\stats\\kde.py\u001b[0m in \u001b[0;36m_compute_covariance\u001b[1;34m(self)\u001b[0m\n\u001b[0;32m    508\u001b[0m             self._data_covariance = atleast_2d(np.cov(self.dataset, rowvar=1,\n\u001b[0;32m    509\u001b[0m                                                bias=False))\n\u001b[1;32m--> 510\u001b[1;33m             \u001b[0mself\u001b[0m\u001b[1;33m.\u001b[0m\u001b[0m_data_inv_cov\u001b[0m \u001b[1;33m=\u001b[0m \u001b[0mlinalg\u001b[0m\u001b[1;33m.\u001b[0m\u001b[0minv\u001b[0m\u001b[1;33m(\u001b[0m\u001b[0mself\u001b[0m\u001b[1;33m.\u001b[0m\u001b[0m_data_covariance\u001b[0m\u001b[1;33m)\u001b[0m\u001b[1;33m\u001b[0m\u001b[0m\n\u001b[0m\u001b[0;32m    511\u001b[0m \u001b[1;33m\u001b[0m\u001b[0m\n\u001b[0;32m    512\u001b[0m         \u001b[0mself\u001b[0m\u001b[1;33m.\u001b[0m\u001b[0mcovariance\u001b[0m \u001b[1;33m=\u001b[0m \u001b[0mself\u001b[0m\u001b[1;33m.\u001b[0m\u001b[0m_data_covariance\u001b[0m \u001b[1;33m*\u001b[0m \u001b[0mself\u001b[0m\u001b[1;33m.\u001b[0m\u001b[0mfactor\u001b[0m\u001b[1;33m**\u001b[0m\u001b[1;36m2\u001b[0m\u001b[1;33m\u001b[0m\u001b[0m\n",
      "\u001b[1;32m~\\AppData\\Local\\Continuum\\anaconda3\\lib\\site-packages\\scipy\\linalg\\basic.py\u001b[0m in \u001b[0;36minv\u001b[1;34m(a, overwrite_a, check_finite)\u001b[0m\n\u001b[0;32m    973\u001b[0m         \u001b[0minv_a\u001b[0m\u001b[1;33m,\u001b[0m \u001b[0minfo\u001b[0m \u001b[1;33m=\u001b[0m \u001b[0mgetri\u001b[0m\u001b[1;33m(\u001b[0m\u001b[0mlu\u001b[0m\u001b[1;33m,\u001b[0m \u001b[0mpiv\u001b[0m\u001b[1;33m,\u001b[0m \u001b[0mlwork\u001b[0m\u001b[1;33m=\u001b[0m\u001b[0mlwork\u001b[0m\u001b[1;33m,\u001b[0m \u001b[0moverwrite_lu\u001b[0m\u001b[1;33m=\u001b[0m\u001b[1;36m1\u001b[0m\u001b[1;33m)\u001b[0m\u001b[1;33m\u001b[0m\u001b[0m\n\u001b[0;32m    974\u001b[0m     \u001b[1;32mif\u001b[0m \u001b[0minfo\u001b[0m \u001b[1;33m>\u001b[0m \u001b[1;36m0\u001b[0m\u001b[1;33m:\u001b[0m\u001b[1;33m\u001b[0m\u001b[0m\n\u001b[1;32m--> 975\u001b[1;33m         \u001b[1;32mraise\u001b[0m \u001b[0mLinAlgError\u001b[0m\u001b[1;33m(\u001b[0m\u001b[1;34m\"singular matrix\"\u001b[0m\u001b[1;33m)\u001b[0m\u001b[1;33m\u001b[0m\u001b[0m\n\u001b[0m\u001b[0;32m    976\u001b[0m     \u001b[1;32mif\u001b[0m \u001b[0minfo\u001b[0m \u001b[1;33m<\u001b[0m \u001b[1;36m0\u001b[0m\u001b[1;33m:\u001b[0m\u001b[1;33m\u001b[0m\u001b[0m\n\u001b[0;32m    977\u001b[0m         raise ValueError('illegal value in %d-th argument of internal '\n",
      "\u001b[1;31mLinAlgError\u001b[0m: singular matrix"
     ]
    },
    {
     "data": {
      "image/png": "[encoded data removed]",
      "text/plain": [
       "<Figure size 432x288 with 9 Axes>"
      ]
     },
     "metadata": {},
     "output_type": "display_data"
    }
   ],
   "source": [
    "df.plot(kind = \"density\",subplots = True,layout = (3,3))"
   ]
  },
  {
   "cell_type": "code",
   "execution_count": null,
   "metadata": {},
   "outputs": [],
   "source": [
    "import seaborn as sns"
   ]
  },
  {
   "cell_type": "code",
   "execution_count": null,
   "metadata": {},
   "outputs": [],
   "source": [
    "sns.pairplot(df)"
   ]
  },
  {
   "cell_type": "code",
   "execution_count": null,
   "metadata": {},
   "outputs": [],
   "source": [
    "sns.boxplot(data = df, orient =\"h\")"
   ]
  },
  {
   "cell_type": "code",
   "execution_count": null,
   "metadata": {},
   "outputs": [],
   "source": [
    "from scipy import stats\n",
    "sns.distplot(df.Age, fit = stats.norm);"
   ]
  },
  {
   "cell_type": "markdown",
   "metadata": {},
   "source": [
    "### Pré-processamento dos dados"
   ]
  },
  {
   "cell_type": "markdown",
   "metadata": {},
   "source": [
    "##### Normalizar os dados (colocar eles na mesma escala)"
   ]
  },
  {
   "cell_type": "code",
   "execution_count": null,
   "metadata": {},
   "outputs": [],
   "source": [
    "from sklearn.preprocessing import MinMaxScaler #pode usar também a função normalize"
   ]
  },
  {
   "cell_type": "code",
   "execution_count": null,
   "metadata": {},
   "outputs": [],
   "source": [
    "#separando a classe do dataset:\n",
    "dados = df.values\n",
    "df_dados = dados[:,0:8]\n",
    "df_classe = dados[:,8]\n",
    "#criando a nova escala:\n",
    "scaler = MinMaxScaler(feature_range= (0,1))\n",
    "df_dados_norm = scaler.fit_transform(df_dados) "
   ]
  },
  {
   "cell_type": "markdown",
   "metadata": {},
   "source": [
    "##### Padronizar os dados (transformar dados com diferentes médias e desvios padrão em uma distribuição normal de média 0 e desvio padrão 1."
   ]
  },
  {
   "cell_type": "code",
   "execution_count": null,
   "metadata": {},
   "outputs": [],
   "source": [
    "from sklearn.preprocessing import StandardScaler\n",
    "scaler = StandardScaler().fit(df_dados)\n",
    "df_dados_padr = scaler.transform(df_dados) "
   ]
  },
  {
   "cell_type": "code",
   "execution_count": null,
   "metadata": {},
   "outputs": [],
   "source": [
    "df[\"idade_disc\"] = pd.cut(df.Age,bins = 3, labels=([\"a\",\"b\",\"c\"]));df.head(10)"
   ]
  },
  {
   "cell_type": "code",
   "execution_count": null,
   "metadata": {},
   "outputs": [],
   "source": [
    "df.columns"
   ]
  },
  {
   "cell_type": "code",
   "execution_count": null,
   "metadata": {},
   "outputs": [],
   "source": [
    "df.drop('idade_disc',axis=1);df.head(5)"
   ]
  },
  {
   "cell_type": "code",
   "execution_count": null,
   "metadata": {},
   "outputs": [],
   "source": [
    "df_proc = pd.DataFrame(df_dados_norm);df_proc.head(5)"
   ]
  },
  {
   "cell_type": "markdown",
   "metadata": {},
   "source": [
    "##### Redução da dimensionalidade\n",
    "Vamos explorar a técnica mais famosa de redução de dimensões, o PCA (Principal Component Analysis). \n",
    "Esse método tem sua matemática baseada na transformação ortogonal linear, que busca dados que estão correlacionados, e realoca o eixo principal daquelas duas dimensões para aquela direção. \n",
    "- Extrair apenas as informações mais relevantes de um conjunto de dados;\n",
    "- Comprimir o tamanho do conjunto de dados original, simplificando assim sua descrição;\n",
    "- Permitir a análise da estrutura dos objetos e dos atributos de um conjunto de dados."
   ]
  },
  {
   "cell_type": "code",
   "execution_count": null,
   "metadata": {},
   "outputs": [],
   "source": [
    "from sklearn.decomposition import PCA"
   ]
  },
  {
   "cell_type": "code",
   "execution_count": null,
   "metadata": {},
   "outputs": [],
   "source": [
    "pca = PCA(n_components=5)\n",
    "df_pca = pca.fit_transform(df_proc.values)\n"
   ]
  },
  {
   "cell_type": "code",
   "execution_count": null,
   "metadata": {},
   "outputs": [],
   "source": [
    "pca.explained_variance_ratio_"
   ]
  },
  {
   "cell_type": "code",
   "execution_count": null,
   "metadata": {},
   "outputs": [],
   "source": [
    "df_pca"
   ]
  },
  {
   "cell_type": "markdown",
   "metadata": {},
   "source": [
    "##### Seleção de variáveis (Feature Selection)\n",
    "O Scikit Learning possui funções que facilitam a seleção das variáveis relevantes para a modelagem dos dados."
   ]
  },
  {
   "cell_type": "code",
   "execution_count": 12,
   "metadata": {},
   "outputs": [
    {
     "ename": "NameError",
     "evalue": "name 'df_classe' is not defined",
     "output_type": "error",
     "traceback": [
      "\u001b[1;31m---------------------------------------------------------------------------\u001b[0m",
      "\u001b[1;31mNameError\u001b[0m                                 Traceback (most recent call last)",
      "\u001b[1;32m<ipython-input-12-7b8db1083863>\u001b[0m in \u001b[0;36m<module>\u001b[1;34m()\u001b[0m\n\u001b[0;32m      3\u001b[0m \u001b[1;32mfrom\u001b[0m \u001b[0msklearn\u001b[0m\u001b[1;33m.\u001b[0m\u001b[0mfeature_selection\u001b[0m \u001b[1;32mimport\u001b[0m \u001b[0mchi2\u001b[0m\u001b[1;33m\u001b[0m\u001b[0m\n\u001b[0;32m      4\u001b[0m \u001b[1;33m\u001b[0m\u001b[0m\n\u001b[1;32m----> 5\u001b[1;33m \u001b[0mdf_classe\u001b[0m \u001b[1;33m=\u001b[0m \u001b[0mdf_classe\u001b[0m\u001b[1;33m.\u001b[0m\u001b[0mastype\u001b[0m\u001b[1;33m(\u001b[0m\u001b[1;34m'int'\u001b[0m\u001b[1;33m)\u001b[0m\u001b[1;33m\u001b[0m\u001b[0m\n\u001b[0m\u001b[0;32m      6\u001b[0m \u001b[1;33m\u001b[0m\u001b[0m\n\u001b[0;32m      7\u001b[0m \u001b[0mdf_label\u001b[0m \u001b[1;33m=\u001b[0m \u001b[0mpd\u001b[0m\u001b[1;33m.\u001b[0m\u001b[0mDataFrame\u001b[0m\u001b[1;33m(\u001b[0m\u001b[0mdf_classe\u001b[0m\u001b[1;33m)\u001b[0m\u001b[1;33m\u001b[0m\u001b[0m\n",
      "\u001b[1;31mNameError\u001b[0m: name 'df_classe' is not defined"
     ]
    }
   ],
   "source": [
    "#Seleção univariada:\n",
    "from sklearn.feature_selection import SelectKBest \n",
    "from sklearn.feature_selection import chi2\n",
    "\n",
    "df_classe = df_classe.astype('int')\n",
    "\n",
    "df_label = pd.DataFrame(df_classe)\n",
    "test = SelectKBest(score_func= chi2, k = 4 )\n",
    "fit = test.fit(df_dados_norm,df_classe)"
   ]
  },
  {
   "cell_type": "code",
   "execution_count": null,
   "metadata": {},
   "outputs": [],
   "source": [
    "print(fit.scores_)"
   ]
  },
  {
   "cell_type": "code",
   "execution_count": null,
   "metadata": {},
   "outputs": [],
   "source": [
    "selecionadas = fit.transform(df_dados_norm);selecionadas.shape"
   ]
  },
  {
   "cell_type": "code",
   "execution_count": null,
   "metadata": {},
   "outputs": [],
   "source": [
    "# Eliminação Recursiva de Atributos\n",
    "# Utiliza a acurácia para selecionar quais variáveis ajudam mais a saída do modelo \n",
    "from sklearn.feature_selection import RFE\n",
    "from sklearn.linear_model import LogisticRegression\n",
    "\n",
    "array = df.values\n",
    "\n",
    "# Separando o array em componentes de input e output\n",
    "x = array[:,0:8]\n",
    "y = array[:,8]\n",
    "y = y.astype('int')\n",
    "\n",
    "# Criação do modelo\n",
    "modelo = LogisticRegression()\n",
    "\n",
    "# RFE\n",
    "rfe = RFE(modelo, 3)\n",
    "fit = rfe.fit(x, y)\n",
    "\n",
    "# Print dos resultados\n",
    "print(\"Número de Atributos: %d\" % fit.n_features_)\n",
    "print(df.columns[0:8])\n",
    "print(\"Atributos Selecionados: %s\" % fit.support_)\n",
    "print(\"Ranking dos Atributos: %s\" % fit.ranking_)\n",
    "\n",
    "\n"
   ]
  },
  {
   "cell_type": "code",
   "execution_count": 15,
   "metadata": {},
   "outputs": [
    {
     "name": "stdout",
     "output_type": "stream",
     "text": [
      "Index(['Pregnancies', 'Glucose', 'BloodPressure', 'SkinThickness', 'Insulin',\n",
      "       'BMI', 'DiabetesPedigreeFunction', 'Age'],\n",
      "      dtype='object')\n",
      "[0.10799897 0.23992633 0.10349419 0.0773655  0.07841165 0.13730299\n",
      " 0.11415194 0.14134842]\n"
     ]
    }
   ],
   "source": [
    "# Método Ensemble para Seleção de Variáveis\n",
    "# Bagged Decision Trees, como o algoritmo RandomForest, podem ser usados para estimar a importância de cada atributo. \n",
    "#Esse método retorna um score para cada atributo.\n",
    "from sklearn.ensemble import ExtraTreesClassifier\n",
    "\n",
    "array = df.values\n",
    "\n",
    "# Separando o array em componentes de input e output\n",
    "x = array[:,0:8]\n",
    "y = array[:,8]\n",
    "y = y.astype('int')\n",
    "\n",
    "# Criação do modelo\n",
    "modelo = ExtraTreesClassifier()\n",
    "modelo.fit(x,y)\n",
    "\n",
    "# Print dos resultados\n",
    "print(df.columns[0:8])\n",
    "print(modelo.feature_importances_)\n",
    "\n",
    "\n"
   ]
  },
  {
   "cell_type": "markdown",
   "metadata": {},
   "source": [
    "### Avaliando modelos de classificação: "
   ]
  },
  {
   "cell_type": "markdown",
   "metadata": {},
   "source": [
    "#### Dataset de treino e Dataset de teste\n",
    "Há alguns métodos de validar a qualidade do seu modelo, vamos conhecer o método que divide o conjunto em dois datasets: treino e teste.\n"
   ]
  },
  {
   "cell_type": "code",
   "execution_count": 14,
   "metadata": {},
   "outputs": [
    {
     "name": "stdout",
     "output_type": "stream",
     "text": [
      "Acurácia: 76.190%\n"
     ]
    }
   ],
   "source": [
    "# Avaliação usando dados de treino e de teste\n",
    "\n",
    "# Import dos módulos\n",
    "from pandas import read_csv\n",
    "from sklearn import model_selection\n",
    "from sklearn.linear_model import LogisticRegression\n",
    "\n",
    "# Carregar os dados:\n",
    "df = read_csv(\"diabetes.csv\")\n",
    "array = df.values\n",
    "\n",
    "# Separar array em componentes de input e output:\n",
    "x = array[:,0:8]\n",
    "y = array[:,8]\n",
    "\n",
    "# Definir tamanho das amostras:\n",
    "teste_size = 0.3\n",
    "\n",
    "# Garantir que os resultados podem ser reproduzidos no estado randômico:\n",
    "seed = 7\n",
    "\n",
    "# Criando os conjuntos de dados de treino e de teste\n",
    "x_treino, x_teste, y_treino, y_teste = model_selection.train_test_split(x, y, \n",
    "                                                                         test_size = teste_size, \n",
    "                                                                         random_state = seed)\n",
    "\n",
    "# Criação do modelo\n",
    "modelo = LogisticRegression()\n",
    "modelo.fit(x_treino, y_treino)\n",
    "\n",
    "# Score\n",
    "result = modelo.score(x_teste, y_teste)\n",
    "print(\"Acurácia: %.3f%%\" % (result * 100.0))"
   ]
  },
  {
   "cell_type": "markdown",
   "metadata": {},
   "source": [
    "#### Criando uma matriz de confusão:\n",
    "\n"
   ]
  },
  {
   "cell_type": "code",
   "execution_count": 13,
   "metadata": {},
   "outputs": [
    {
     "name": "stdout",
     "output_type": "stream",
     "text": [
      "[[130  17]\n",
      " [ 38  46]]\n"
     ]
    }
   ],
   "source": [
    "# Avaliação usando dados de treino e de teste\n",
    "\n",
    "# Import dos módulos\n",
    "from pandas import read_csv\n",
    "from sklearn import model_selection\n",
    "from sklearn.linear_model import LogisticRegression\n",
    "from sklearn.metrics import confusion_matrix\n",
    "\n",
    "# Carregar os dados:\n",
    "df = read_csv(\"diabetes.csv\")\n",
    "array = df.values\n",
    "\n",
    "# Separar array em componentes de input e output:\n",
    "x = array[:,0:8]\n",
    "y = array[:,8]\n",
    "\n",
    "# Definir tamanho das amostras:\n",
    "teste_size = 0.3\n",
    "\n",
    "# Garantir que os resultados podem ser reproduzidos no estado randômico:\n",
    "seed = 7\n",
    "\n",
    "# Criando os conjuntos de dados de treino e de teste\n",
    "x_treino, x_teste, y_treino, y_teste = model_selection.train_test_split(x, y, test_size = teste_size, random_state = seed)\n",
    "\n",
    "# Criação do modelo\n",
    "modelo = LogisticRegression()\n",
    "modelo.fit(x_treino, y_treino)\n",
    "\n",
    "# matriz de confusão:\n",
    "pred = modelo.predict(x_teste)\n",
    "mat = confusion_matrix(y_teste,pred)\n",
    "print(mat)"
   ]
  },
  {
   "cell_type": "markdown",
   "metadata": {},
   "source": [
    "### Avaliando modelos de regressão: \n",
    "Vamos usar o dataset da NASA: https://archive.ics.uci.edu/ml/datasets/Airfoil+Self-Noise#\n",
    "\n",
    "Método: Erro absoluto das médias (MAE - mean absolute error)  "
   ]
  },
  {
   "cell_type": "code",
   "execution_count": 11,
   "metadata": {},
   "outputs": [
    {
     "name": "stdout",
     "output_type": "stream",
     "text": [
      "MAE: 0.1643235982889679\n",
      "Variância: 0.28988730739410296\n"
     ]
    }
   ],
   "source": [
    "from pandas import read_csv\n",
    "from sklearn import model_selection\n",
    "from sklearn.linear_model import LinearRegression\n",
    "\n",
    "# Carregando os dados\n",
    "df = read_csv(\"airfoil_self_noise.csv\")\n",
    "array = df.values\n",
    "\n",
    "# Separando o array em componentes de input e output\n",
    "X = array[:,0:4]\n",
    "Y = array[:,5]\n",
    "\n",
    "# Definir tamanho das amostras:\n",
    "teste_size = 0.3\n",
    "\n",
    "# Garantir que os resultados podem ser reproduzidos no estado randômico:\n",
    "seed = 7\n",
    "\n",
    "# Criando os conjuntos de dados de treino e de teste\n",
    "x_treino, x_teste, y_treino, y_teste = model_selection.train_test_split(x, y, test_size = teste_size, random_state = seed)\n",
    "\n",
    "\n",
    "# Criando o modelo\n",
    "modelo = LinearRegression()\n",
    "modelo.fit(x_treino,y_treino)\n",
    "\n",
    "# MAE\n",
    "from numpy import mean\n",
    "print(\"MAE: \"+str(mean((modelo.predict(x_teste) - y_teste)**2)))\n",
    "\n",
    "# Variância\n",
    "print(\"Variância: \"+str(modelo.score(x_teste,y_teste)))"
   ]
  },
  {
   "cell_type": "markdown",
   "metadata": {},
   "source": [
    "## Algoritmos de Classificação:\n",
    "Voltamos ao dataset Pima para a classificação"
   ]
  },
  {
   "cell_type": "markdown",
   "metadata": {},
   "source": [
    "#### Regressão Logística:"
   ]
  },
  {
   "cell_type": "code",
   "execution_count": 60,
   "metadata": {},
   "outputs": [
    {
     "name": "stdout",
     "output_type": "stream",
     "text": [
      "Matriz de confusão: \n",
      "[[135  18]\n",
      " [ 29  47]]\n",
      "\n",
      "Acurácia: 79.47598253275109%\n"
     ]
    },
    {
     "data": {
      "text/plain": [
       "array([1., 0., 1., 0., 1.])"
      ]
     },
     "execution_count": 60,
     "metadata": {},
     "output_type": "execute_result"
    }
   ],
   "source": [
    "from pandas import read_csv\n",
    "from sklearn import model_selection\n",
    "from sklearn.linear_model import LogisticRegression\n",
    "from sklearn.metrics import confusion_matrix\n",
    "\n",
    "# Carregar os dados:\n",
    "df = read_csv(\"diabetes.csv\")\n",
    "array = df.values\n",
    "\n",
    "# Separar array em componentes de input e output:\n",
    "x = array[:,0:8]\n",
    "y = array[:,8]\n",
    "\n",
    "# Definir tamanho das amostras:\n",
    "teste_size = 0.3\n",
    "\n",
    "# Garantir que os resultados podem ser reproduzidos no estado randômico:\n",
    "seed = 7\n",
    "\n",
    "# Criando os conjuntos de dados de treino e de teste\n",
    "x_treino, x_teste, y_treino, y_teste = model_selection.train_test_split(x, y, test_size = teste_size, random_state = seed)\n",
    "\n",
    "# Criação do modelo\n",
    "modelo = LogisticRegression()\n",
    "modelo.fit(x_treino, y_treino)\n",
    "\n",
    "# matriz de confusão:\n",
    "pred = modelo.predict(x_teste)\n",
    "mat = confusion_matrix(y_teste,pred)\n",
    "print(\"Matriz de confusão: \\n\"+str(mat))\n",
    "\n",
    "#acurácia:\n",
    "acuracia = modelo.score(x_teste,y_teste)\n",
    "print(\"\\nAcurácia: \"+str(acuracia*100)+\"%\")\n",
    "\n",
    "data = read_csv(\"diabetes_new.csv\")\n",
    "\n",
    "modelo.predict(data)\n"
   ]
  },
  {
   "cell_type": "markdown",
   "metadata": {},
   "source": [
    "#### KNN:"
   ]
  },
  {
   "cell_type": "code",
   "execution_count": 59,
   "metadata": {},
   "outputs": [
    {
     "name": "stdout",
     "output_type": "stream",
     "text": [
      "Matriz de confusão: \n",
      "[[116  37]\n",
      " [ 30  46]]\n",
      "\n",
      "Acurácia: 70.74235807860262%\n"
     ]
    },
    {
     "data": {
      "text/plain": [
       "array([0., 0., 1., 0., 0.])"
      ]
     },
     "execution_count": 59,
     "metadata": {},
     "output_type": "execute_result"
    }
   ],
   "source": [
    "from pandas import read_csv\n",
    "from sklearn import model_selection\n",
    "from sklearn.neighbors import KNeighborsClassifier\n",
    "from sklearn.metrics import confusion_matrix\n",
    "\n",
    "# Carregar os dados:\n",
    "df = read_csv(\"diabetes.csv\")\n",
    "array = df.values\n",
    "\n",
    "# Separar array em componentes de input e output:\n",
    "x = array[:,0:8]\n",
    "y = array[:,8]\n",
    "\n",
    "# Definir tamanho das amostras:\n",
    "teste_size = 0.3\n",
    "\n",
    "# Garantir que os resultados podem ser reproduzidos no estado randômico:\n",
    "seed = 7\n",
    "\n",
    "# Criando os conjuntos de dados de treino e de teste\n",
    "x_treino, x_teste, y_treino, y_teste = model_selection.train_test_split(x, y, test_size = teste_size, random_state = seed)\n",
    "\n",
    "# Criação do modelo\n",
    "modelo = KNeighborsClassifier()\n",
    "modelo.fit(x_treino, y_treino)\n",
    "\n",
    "# matriz de confusão:\n",
    "pred = modelo.predict(x_teste)\n",
    "mat = confusion_matrix(y_teste,pred)\n",
    "print(\"Matriz de confusão: \\n\"+str(mat))\n",
    "\n",
    "#acurácia:\n",
    "acuracia = modelo.score(x_teste,y_teste)\n",
    "print(\"\\nAcurácia: \"+str(acuracia*100)+\"%\")\n",
    "\n",
    "data = read_csv(\"diabetes_new.csv\")\n",
    "\n",
    "modelo.predict(data)\n"
   ]
  },
  {
   "cell_type": "markdown",
   "metadata": {},
   "source": [
    "#### SVM:"
   ]
  },
  {
   "cell_type": "code",
   "execution_count": 58,
   "metadata": {},
   "outputs": [
    {
     "name": "stdout",
     "output_type": "stream",
     "text": [
      "Matriz de confusão: \n",
      "[[153   0]\n",
      " [ 76   0]]\n",
      "\n",
      "Acurácia: 66.8122270742358%\n"
     ]
    },
    {
     "data": {
      "text/plain": [
       "array([0., 0., 0., 0., 0.])"
      ]
     },
     "execution_count": 58,
     "metadata": {},
     "output_type": "execute_result"
    }
   ],
   "source": [
    "from pandas import read_csv\n",
    "from sklearn import model_selection\n",
    "from sklearn.svm import SVC\n",
    "from sklearn.metrics import confusion_matrix\n",
    "\n",
    "# Carregar os dados:\n",
    "df = read_csv(\"diabetes.csv\")\n",
    "array = df.values\n",
    "\n",
    "# Separar array em componentes de input e output:\n",
    "x = array[:,0:8]\n",
    "y = array[:,8]\n",
    "\n",
    "# Definir tamanho das amostras:\n",
    "teste_size = 0.3\n",
    "\n",
    "# Garantir que os resultados podem ser reproduzidos no estado randômico:\n",
    "seed = 7\n",
    "\n",
    "# Criando os conjuntos de dados de treino e de teste\n",
    "x_treino, x_teste, y_treino, y_teste = model_selection.train_test_split(x, y, test_size = teste_size, random_state = seed)\n",
    "\n",
    "# Criação do modelo\n",
    "modelo = SVC()\n",
    "modelo.fit(x_treino, y_treino)\n",
    "\n",
    "# matriz de confusão:\n",
    "pred = modelo.predict(x_teste)\n",
    "mat = confusion_matrix(y_teste,pred)\n",
    "print(\"Matriz de confusão: \\n\"+str(mat))\n",
    "\n",
    "#acurácia:\n",
    "acuracia = modelo.score(x_teste,y_teste)\n",
    "print(\"\\nAcurácia: \"+str(acuracia*100)+\"%\")\n",
    "\n",
    "data = read_csv(\"diabetes_new.csv\")\n",
    "\n",
    "modelo.predict(data)\n"
   ]
  },
  {
   "cell_type": "markdown",
   "metadata": {},
   "source": [
    "#### Naive Bayes"
   ]
  },
  {
   "cell_type": "code",
   "execution_count": 57,
   "metadata": {},
   "outputs": [
    {
     "name": "stdout",
     "output_type": "stream",
     "text": [
      "Matriz de confusão: \n",
      "[[127  26]\n",
      " [ 30  46]]\n",
      "\n",
      "Acurácia: 75.54585152838428%\n"
     ]
    },
    {
     "data": {
      "text/plain": [
       "array([1., 0., 1., 0., 1.])"
      ]
     },
     "execution_count": 57,
     "metadata": {},
     "output_type": "execute_result"
    }
   ],
   "source": [
    "from pandas import read_csv\n",
    "from sklearn import model_selection\n",
    "from sklearn.naive_bayes import GaussianNB\n",
    "from sklearn.metrics import confusion_matrix\n",
    "\n",
    "# Carregar os dados:\n",
    "df = read_csv(\"diabetes.csv\")\n",
    "array = df.values\n",
    "\n",
    "# Separar array em componentes de input e output:\n",
    "x = array[:,0:8]\n",
    "y = array[:,8]\n",
    "\n",
    "# Definir tamanho das amostras:\n",
    "teste_size = 0.3\n",
    "\n",
    "# Garantir que os resultados podem ser reproduzidos no estado randômico:\n",
    "seed = 7\n",
    "\n",
    "# Criando os conjuntos de dados de treino e de teste\n",
    "x_treino, x_teste, y_treino, y_teste = model_selection.train_test_split(x, y, test_size = teste_size, random_state = seed)\n",
    "\n",
    "# Criação do modelo\n",
    "modelo = GaussianNB()\n",
    "modelo.fit(x_treino, y_treino)\n",
    "\n",
    "# matriz de confusão:\n",
    "pred = modelo.predict(x_teste)\n",
    "mat = confusion_matrix(y_teste,pred)\n",
    "print(\"Matriz de confusão: \\n\"+str(mat))\n",
    "\n",
    "#acurácia:\n",
    "acuracia = modelo.score(x_teste,y_teste)\n",
    "print(\"\\nAcurácia: \"+str(acuracia*100)+\"%\")\n",
    "\n",
    "data = read_csv(\"diabetes_new.csv\")\n",
    "\n",
    "modelo.predict(data)\n"
   ]
  },
  {
   "cell_type": "markdown",
   "metadata": {},
   "source": [
    "#### Árvore de decisão"
   ]
  },
  {
   "cell_type": "code",
   "execution_count": 56,
   "metadata": {},
   "outputs": [
    {
     "name": "stdout",
     "output_type": "stream",
     "text": [
      "Matriz de confusão: \n",
      "[[109  44]\n",
      " [ 31  45]]\n",
      "\n",
      "Acurácia: 67.24890829694323%\n"
     ]
    },
    {
     "data": {
      "text/plain": [
       "array([1., 0., 1., 0., 1.])"
      ]
     },
     "execution_count": 56,
     "metadata": {},
     "output_type": "execute_result"
    }
   ],
   "source": [
    "from pandas import read_csv\n",
    "from sklearn import model_selection\n",
    "from sklearn.tree import DecisionTreeClassifier\n",
    "from sklearn.metrics import confusion_matrix\n",
    "\n",
    "# Carregar os dados:\n",
    "df = read_csv(\"diabetes.csv\")\n",
    "array = df.values\n",
    "\n",
    "# Separar array em componentes de input e output:\n",
    "x = array[:,0:8]\n",
    "y = array[:,8]\n",
    "\n",
    "# Definir tamanho das amostras:\n",
    "teste_size = 0.3\n",
    "\n",
    "# Garantir que os resultados podem ser reproduzidos no estado randômico:\n",
    "seed = 7\n",
    "\n",
    "# Criando os conjuntos de dados de treino e de teste\n",
    "x_treino, x_teste, y_treino, y_teste = model_selection.train_test_split(x, y, test_size = teste_size, random_state = seed)\n",
    "\n",
    "# Criação do modelo\n",
    "modelo = DecisionTreeClassifier()\n",
    "modelo.fit(x_treino, y_treino)\n",
    "\n",
    "# matriz de confusão:\n",
    "pred = modelo.predict(x_teste)\n",
    "mat = confusion_matrix(y_teste,pred)\n",
    "print(\"Matriz de confusão: \\n\"+str(mat))\n",
    "\n",
    "#acurácia:\n",
    "acuracia = modelo.score(x_teste,y_teste)\n",
    "print(\"\\nAcurácia: \"+str(acuracia*100)+\"%\")\n",
    "\n",
    "data = read_csv(\"diabetes_new.csv\")\n",
    "\n",
    "modelo.predict(data)\n"
   ]
  },
  {
   "cell_type": "markdown",
   "metadata": {},
   "source": [
    "#### Random Forest"
   ]
  },
  {
   "cell_type": "code",
   "execution_count": 55,
   "metadata": {},
   "outputs": [
    {
     "name": "stdout",
     "output_type": "stream",
     "text": [
      "Matriz de confusão: \n",
      "[[127  26]\n",
      " [ 29  47]]\n",
      "\n",
      "Acurácia: 75.9825327510917%\n"
     ]
    },
    {
     "data": {
      "text/plain": [
       "array([1., 0., 1., 0., 1.])"
      ]
     },
     "execution_count": 55,
     "metadata": {},
     "output_type": "execute_result"
    }
   ],
   "source": [
    "from pandas import read_csv\n",
    "from sklearn import model_selection\n",
    "from sklearn.ensemble import RandomForestClassifier\n",
    "from sklearn.metrics import confusion_matrix\n",
    "\n",
    "# Carregar os dados:\n",
    "df = read_csv(\"diabetes.csv\")\n",
    "array = df.values\n",
    "\n",
    "# Separar array em componentes de input e output:\n",
    "x = array[:,0:8]\n",
    "y = array[:,8]\n",
    "\n",
    "# Definir tamanho das amostras:\n",
    "teste_size = 0.3\n",
    "\n",
    "# Garantir que os resultados podem ser reproduzidos no estado randômico:\n",
    "seed = 7\n",
    "\n",
    "# Criando os conjuntos de dados de treino e de teste\n",
    "x_treino, x_teste, y_treino, y_teste = model_selection.train_test_split(x, y, test_size = teste_size, random_state = seed)\n",
    "\n",
    "# Criação do modelo\n",
    "\n",
    "num_arvores = 50\n",
    "max_features = 8\n",
    "modelo = RandomForestClassifier(n_estimators=num_arvores,max_features=max_features)\n",
    "modelo.fit(x_treino, y_treino)\n",
    "\n",
    "# matriz de confusão:\n",
    "pred = modelo.predict(x_teste)\n",
    "mat = confusion_matrix(y_teste,pred)\n",
    "print(\"Matriz de confusão: \\n\"+str(mat))\n",
    "\n",
    "#acurácia:\n",
    "acuracia = modelo.score(x_teste,y_teste)\n",
    "print(\"\\nAcurácia: \"+str(acuracia*100)+\"%\")\n",
    "\n",
    "data = read_csv(\"diabetes_new.csv\")\n",
    "\n",
    "modelo.predict(data)\n"
   ]
  },
  {
   "cell_type": "markdown",
   "metadata": {},
   "source": [
    "## Algoritmos de Regressão:"
   ]
  },
  {
   "cell_type": "markdown",
   "metadata": {},
   "source": [
    "#### Regressão Linear"
   ]
  },
  {
   "cell_type": "code",
   "execution_count": 5,
   "metadata": {},
   "outputs": [
    {
     "name": "stdout",
     "output_type": "stream",
     "text": [
      "MAE: 24.523540981566967\n",
      "Variância: 0.49931253015382704\n"
     ]
    }
   ],
   "source": [
    "from pandas import read_csv\n",
    "from sklearn import model_selection\n",
    "from sklearn.linear_model import LinearRegression\n",
    "\n",
    "# Carregando os dados\n",
    "df = read_csv(\"airfoil_self_noise.csv\")\n",
    "array = df.values\n",
    "\n",
    "# Separando o array em componentes de input e output\n",
    "x = array[:,0:4]\n",
    "y = array[:,5]\n",
    "\n",
    "# Definir tamanho das amostras:\n",
    "teste_size = 0.3\n",
    "\n",
    "# Garantir que os resultados podem ser reproduzidos no estado randômico:\n",
    "seed = 7\n",
    "\n",
    "# Criando os conjuntos de dados de treino e de teste\n",
    "x_treino, x_teste, y_treino, y_teste = model_selection.train_test_split(x, y, test_size = teste_size, random_state = seed)\n",
    "\n",
    "\n",
    "# Criando o modelo\n",
    "modelo = LinearRegression()\n",
    "modelo.fit(x_treino,y_treino)\n",
    "\n",
    "# MAE\n",
    "from numpy import mean\n",
    "print(\"MAE: \"+str(mean((modelo.predict(x_teste) - y_teste)**2)))\n",
    "\n",
    "# Variância\n",
    "print(\"Variância: \"+str(modelo.score(x_teste,y_teste)))"
   ]
  },
  {
   "cell_type": "markdown",
   "metadata": {},
   "source": [
    "#### Ridge:"
   ]
  },
  {
   "cell_type": "code",
   "execution_count": 4,
   "metadata": {},
   "outputs": [
    {
     "name": "stdout",
     "output_type": "stream",
     "text": [
      "MAE: 24.623606039269355\n",
      "Variância: 0.49726954131307693\n"
     ]
    }
   ],
   "source": [
    "from pandas import read_csv\n",
    "from sklearn import model_selection\n",
    "from sklearn.linear_model import Ridge\n",
    "\n",
    "# Carregando os dados\n",
    "df = read_csv(\"airfoil_self_noise.csv\")\n",
    "array = df.values\n",
    "\n",
    "# Separando o array em componentes de input e output\n",
    "x = array[:,0:4]\n",
    "y = array[:,5]\n",
    "\n",
    "# Definir tamanho das amostras:\n",
    "teste_size = 0.3\n",
    "\n",
    "# Garantir que os resultados podem ser reproduzidos no estado randômico:\n",
    "seed = 7\n",
    "\n",
    "# Criando os conjuntos de dados de treino e de teste\n",
    "x_treino, x_teste, y_treino, y_teste = model_selection.train_test_split(x, y, test_size = teste_size, random_state = seed)\n",
    "\n",
    "\n",
    "# Criando o modelo\n",
    "modelo = Ridge()\n",
    "modelo.fit(x_treino,y_treino)\n",
    "\n",
    "# MAE\n",
    "from numpy import mean\n",
    "print(\"MAE: \"+str(mean((modelo.predict(x_teste) - y_teste)**2)))\n",
    "\n",
    "# Variância\n",
    "print(\"Variância: \"+str(modelo.score(x_teste,y_teste)))"
   ]
  },
  {
   "cell_type": "markdown",
   "metadata": {},
   "source": [
    "#### KNN:"
   ]
  },
  {
   "cell_type": "code",
   "execution_count": 17,
   "metadata": {},
   "outputs": [
    {
     "name": "stdout",
     "output_type": "stream",
     "text": [
      "MAE: 37.47792402634149\n",
      "Variância: 0.23482799772102836\n"
     ]
    }
   ],
   "source": [
    "from pandas import read_csv\n",
    "from sklearn import model_selection\n",
    "from sklearn.neighbors import KNeighborsRegressor\n",
    "\n",
    "# Carregando os dados\n",
    "df = read_csv(\"airfoil_self_noise.csv\")\n",
    "array = df.values\n",
    "\n",
    "# Separando o array em componentes de input e output\n",
    "x = array[:,0:4]\n",
    "y = array[:,5]\n",
    "\n",
    "# Definir tamanho das amostras:\n",
    "teste_size = 0.3\n",
    "\n",
    "# Garantir que os resultados podem ser reproduzidos no estado randômico:\n",
    "seed = 7\n",
    "\n",
    "# Criando os conjuntos de dados de treino e de teste\n",
    "x_treino, x_teste, y_treino, y_teste = model_selection.train_test_split(x, y, test_size = teste_size, random_state = seed)\n",
    "\n",
    "\n",
    "# Criando o modelo\n",
    "modelo = KNeighborsRegressor()\n",
    "modelo.fit(x_treino,y_treino)\n",
    "\n",
    "# MAE\n",
    "from numpy import mean\n",
    "print(\"MAE: \"+str(mean((modelo.predict(x_teste) - y_teste)**2)))\n",
    "\n",
    "# Variância\n",
    "print(\"Variância: \"+str(modelo.score(x_teste,y_teste)))"
   ]
  },
  {
   "cell_type": "markdown",
   "metadata": {},
   "source": [
    "#### SVM:"
   ]
  },
  {
   "cell_type": "code",
   "execution_count": 54,
   "metadata": {},
   "outputs": [
    {
     "name": "stdout",
     "output_type": "stream",
     "text": [
      "MAE: 45.408854035757486\n",
      "Variância: 0.07290532583093279\n"
     ]
    }
   ],
   "source": [
    "from pandas import read_csv\n",
    "from sklearn import model_selection\n",
    "from sklearn.svm import SVR\n",
    "\n",
    "# Carregando os dados\n",
    "df = read_csv(\"airfoil_self_noise.csv\")\n",
    "array = df.values\n",
    "\n",
    "# Separando o array em componentes de input e output\n",
    "x = array[:,0:4]\n",
    "y = array[:,5]\n",
    "\n",
    "# Definir tamanho das amostras:\n",
    "teste_size = 0.3\n",
    "\n",
    "# Garantir que os resultados podem ser reproduzidos no estado randômico:\n",
    "seed = 7\n",
    "\n",
    "# Criando os conjuntos de dados de treino e de teste\n",
    "x_treino, x_teste, y_treino, y_teste = model_selection.train_test_split(x, y, test_size = teste_size, random_state = seed)\n",
    "\n",
    "\n",
    "# Criando o modelo\n",
    "modelo = SVR()\n",
    "modelo.fit(x_treino,y_treino)\n",
    "\n",
    "# MAE\n",
    "from numpy import mean\n",
    "print(\"MAE: \"+str(mean((modelo.predict(x_teste) - y_teste)**2)))\n",
    "\n",
    "# Variância\n",
    "print(\"Variância: \"+str(modelo.score(x_teste,y_teste)))\n",
    "\n",
    "\n",
    "\n"
   ]
  },
  {
   "cell_type": "markdown",
   "metadata": {},
   "source": [
    "#### Árvore de decisão"
   ]
  },
  {
   "cell_type": "code",
   "execution_count": 52,
   "metadata": {},
   "outputs": [
    {
     "name": "stdout",
     "output_type": "stream",
     "text": [
      "MAE: 0.33624454148471616\n",
      "Variância: -0.5164258685930512\n"
     ]
    },
    {
     "data": {
      "text/plain": [
       "array([1., 0., 0., 0., 1.])"
      ]
     },
     "execution_count": 52,
     "metadata": {},
     "output_type": "execute_result"
    }
   ],
   "source": [
    "from pandas import read_csv\n",
    "from sklearn import model_selection\n",
    "from sklearn.tree import DecisionTreeRegressor\n",
    "from sklearn.metrics import confusion_matrix\n",
    "\n",
    "# Carregar os dados:\n",
    "df = read_csv(\"diabetes.csv\")\n",
    "array = df.values\n",
    "\n",
    "# Separar array em componentes de input e output:\n",
    "x = array[:,0:8]\n",
    "y = array[:,8]\n",
    "\n",
    "# Definir tamanho das amostras:\n",
    "teste_size = 0.3\n",
    "\n",
    "# Garantir que os resultados podem ser reproduzidos no estado randômico:\n",
    "seed = 7\n",
    "\n",
    "# Criando os conjuntos de dados de treino e de teste\n",
    "x_treino, x_teste, y_treino, y_teste = model_selection.train_test_split(x, y, test_size = teste_size, random_state = seed)\n",
    "\n",
    "# Criação do modelo\n",
    "modelo = DecisionTreeRegressor()\n",
    "modelo.fit(x_treino, y_treino)\n",
    "\n",
    "# MAE\n",
    "from numpy import mean\n",
    "print(\"MAE: \"+str(mean((modelo.predict(x_teste) - y_teste)**2)))\n",
    "# Variância\n",
    "print(\"Variância: \"+str(modelo.score(x_teste,y_teste)))\n",
    "\n",
    "\n",
    "data = read_csv(\"diabetes_new.csv\")\n",
    "\n",
    "modelo.predict(data)\n"
   ]
  },
  {
   "cell_type": "markdown",
   "metadata": {},
   "source": [
    "## Algoritmo de clusterização"
   ]
  },
  {
   "cell_type": "code",
   "execution_count": 68,
   "metadata": {},
   "outputs": [
    {
     "data": {
      "text/plain": [
       "array([1, 1, 1, 1, 0])"
      ]
     },
     "execution_count": 68,
     "metadata": {},
     "output_type": "execute_result"
    },
    {
     "data": {
      "image/png": "[encoded data removed]",
      "text/plain": [
       "<Figure size 432x288 with 1 Axes>"
      ]
     },
     "metadata": {},
     "output_type": "display_data"
    }
   ],
   "source": [
    "from pandas import read_csv\n",
    "from sklearn import model_selection\n",
    "from sklearn.cluster import KMeans\n",
    "\n",
    "# Carregar os dados:\n",
    "df = read_csv(\"diabetes.csv\")\n",
    "array = df.values\n",
    "\n",
    "# Separar array em componentes de input e output:\n",
    "x = array[:,0:8]\n",
    "y = array[:,8]\n",
    "\n",
    "\n",
    "# Criação do modelo\n",
    "modelo = KMeans(n_clusters = 2)\n",
    "modelo.fit(x)\n",
    "\n",
    "import matplotlib.pyplot as plt\n",
    "%matplotlib inline\n",
    "plt.scatter(x[:, 0], x[:,1], s = 100, c = modelo.labels_)\n",
    "\n",
    "data = read_csv(\"diabetes_new.csv\")\n",
    "\n",
    "modelo.predict(data)\n"
   ]
  },
  {
   "cell_type": "code",
   "execution_count": null,
   "metadata": {},
   "outputs": [],
   "source": []
  }
 ],
 "metadata": {
  "kernelspec": {
   "display_name": "Python 3",
   "language": "python",
   "name": "python3"
  },
  "language_info": {
   "codemirror_mode": {
    "name": "ipython",
    "version": 3
   },
   "file_extension": ".py",
   "mimetype": "text/x-python",
   "name": "python",
   "nbconvert_exporter": "python",
   "pygments_lexer": "ipython3",
   "version": "3.6.5"
  }
 },
 "nbformat": 4,
 "nbformat_minor": 2
}
